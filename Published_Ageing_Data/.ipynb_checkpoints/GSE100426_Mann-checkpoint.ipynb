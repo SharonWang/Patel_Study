{
 "cells": [
  {
   "cell_type": "markdown",
   "id": "39cbb3d5",
   "metadata": {},
   "source": [
    "# GSE100426 - Mann\n",
    "## Xiaonan Wang\n",
    "## 24May2023"
   ]
  },
  {
   "cell_type": "code",
   "execution_count": 1,
   "id": "844a5d8f",
   "metadata": {},
   "outputs": [
    {
     "name": "stdout",
     "output_type": "stream",
     "text": [
      "scanpy==1.8.2 anndata==0.7.8 umap==0.5.2 numpy==1.20.3 scipy==1.7.3 pandas==1.3.5 scikit-learn==1.0.1 statsmodels==0.13.1 python-igraph==0.9.8 louvain==0.7.1 pynndescent==0.5.5\n",
      "0.1.2\n"
     ]
    }
   ],
   "source": [
    "#%matplotlib nbagg\n",
    "import numpy as np\n",
    "import matplotlib.pyplot as plt\n",
    "import scanpy as sc\n",
    "import pandas as pd\n",
    "from os import listdir\n",
    "from os.path import isfile, join\n",
    "import re\n",
    "import anndata\n",
    "import seaborn as sns\n",
    "import smqpp\n",
    "\n",
    "plt.rcParams['pdf.fonttype'] = 42\n",
    "plt.rcParams['ps.fonttype'] = 42\n",
    "\n",
    "sc.settings.verbosity = 3  # verbosity: errors (0), warnings (1), info (2), hints (3)\n",
    "sc.logging.print_header()\n",
    "print(smqpp.__version__)\n",
    "\n",
    "from matplotlib.colors import LinearSegmentedColormap\n",
    "cmap = LinearSegmentedColormap.from_list(name='gene_cmap', colors=['lightgrey', 'thistle', 'red', 'darkred']) \n",
    "\n",
    "sc.settings.set_figure_params(dpi=80, color_map='viridis', vector_friendly=False,  dpi_save=300)"
   ]
  },
  {
   "cell_type": "markdown",
   "id": "dd7f8c74",
   "metadata": {},
   "source": [
    "# Read in and tidyup"
   ]
  },
  {
   "cell_type": "code",
   "execution_count": 2,
   "id": "73731b61",
   "metadata": {},
   "outputs": [
    {
     "name": "stdout",
     "output_type": "stream",
     "text": [
      "--> This might be very slow. Consider passing `cache=True`, which enables much faster reading from a cache file.\n"
     ]
    }
   ],
   "source": [
    "GSE100426 = sc.read(\"./Data/GSE100426_cnt.txt\").T"
   ]
  },
  {
   "cell_type": "code",
   "execution_count": 3,
   "id": "53a8709a",
   "metadata": {},
   "outputs": [
    {
     "name": "stdout",
     "output_type": "stream",
     "text": [
      "(1445, 17)\n"
     ]
    }
   ],
   "source": [
    "meta = pd.read_csv(\"./Data/GSE100426_meta.txt\", sep='\\t')\n",
    "print(meta.shape)"
   ]
  },
  {
   "cell_type": "code",
   "execution_count": 4,
   "id": "21508945",
   "metadata": {},
   "outputs": [],
   "source": [
    "GSE100426.obs = meta"
   ]
  },
  {
   "cell_type": "code",
   "execution_count": 5,
   "id": "4bf32fa1",
   "metadata": {},
   "outputs": [],
   "source": [
    "GSE100426 = GSE100426[GSE100426.obs['con'] == 'nostim',:].copy()"
   ]
  },
  {
   "cell_type": "code",
   "execution_count": 29,
   "id": "dabcd44a",
   "metadata": {},
   "outputs": [
    {
     "data": {
      "text/html": [
       "<div>\n",
       "<style scoped>\n",
       "    .dataframe tbody tr th:only-of-type {\n",
       "        vertical-align: middle;\n",
       "    }\n",
       "\n",
       "    .dataframe tbody tr th {\n",
       "        vertical-align: top;\n",
       "    }\n",
       "\n",
       "    .dataframe thead th {\n",
       "        text-align: right;\n",
       "    }\n",
       "</style>\n",
       "<table border=\"1\" class=\"dataframe\">\n",
       "  <thead>\n",
       "    <tr style=\"text-align: right;\">\n",
       "      <th></th>\n",
       "      <th>Accession</th>\n",
       "      <th>Title</th>\n",
       "      <th>Sample.Type</th>\n",
       "      <th>Taxonomy</th>\n",
       "      <th>Channels</th>\n",
       "      <th>Platform</th>\n",
       "      <th>Series</th>\n",
       "      <th>Supplementary.Types</th>\n",
       "      <th>Supplementary.Links</th>\n",
       "      <th>SRA.Accession</th>\n",
       "      <th>...</th>\n",
       "      <th>Release.Date</th>\n",
       "      <th>ct</th>\n",
       "      <th>age</th>\n",
       "      <th>batch</th>\n",
       "      <th>con</th>\n",
       "      <th>ID</th>\n",
       "      <th>Condition</th>\n",
       "      <th>n_genes</th>\n",
       "      <th>n_counts</th>\n",
       "      <th>p53S</th>\n",
       "    </tr>\n",
       "  </thead>\n",
       "  <tbody>\n",
       "    <tr>\n",
       "      <th>LT_old_mouse2_plate1_nostim_sc_A1_S193</th>\n",
       "      <td>GSM2680760</td>\n",
       "      <td>LT_old_mouse2_plate1_nostim_sc_A1_S193</td>\n",
       "      <td>SRA</td>\n",
       "      <td>Mus musculus</td>\n",
       "      <td>1</td>\n",
       "      <td>GPL19057</td>\n",
       "      <td>GSE100426;GSE100428</td>\n",
       "      <td>SRA Run Selector</td>\n",
       "      <td>https://www.ncbi.nlm.nih.gov/Traces/study/?acc...</td>\n",
       "      <td>SRX2951004</td>\n",
       "      <td>...</td>\n",
       "      <td>Jul 19, 2017</td>\n",
       "      <td>LT</td>\n",
       "      <td>old</td>\n",
       "      <td>b1</td>\n",
       "      <td>nostim</td>\n",
       "      <td>LT_old_mouse2_plate1_nostim_sc_A1_S193</td>\n",
       "      <td>LT_old</td>\n",
       "      <td>3727</td>\n",
       "      <td>253386.0</td>\n",
       "      <td>-0.117444</td>\n",
       "    </tr>\n",
       "    <tr>\n",
       "      <th>LT_old_mouse2_plate1_nostim_sc_A2_S194</th>\n",
       "      <td>GSM2680761</td>\n",
       "      <td>LT_old_mouse2_plate1_nostim_sc_A2_S194</td>\n",
       "      <td>SRA</td>\n",
       "      <td>Mus musculus</td>\n",
       "      <td>1</td>\n",
       "      <td>GPL19057</td>\n",
       "      <td>GSE100426;GSE100428</td>\n",
       "      <td>SRA Run Selector</td>\n",
       "      <td>https://www.ncbi.nlm.nih.gov/Traces/study/?acc...</td>\n",
       "      <td>SRX2951005</td>\n",
       "      <td>...</td>\n",
       "      <td>Jul 19, 2017</td>\n",
       "      <td>LT</td>\n",
       "      <td>old</td>\n",
       "      <td>b1</td>\n",
       "      <td>nostim</td>\n",
       "      <td>LT_old_mouse2_plate1_nostim_sc_A2_S194</td>\n",
       "      <td>LT_old</td>\n",
       "      <td>3644</td>\n",
       "      <td>196654.0</td>\n",
       "      <td>-0.154416</td>\n",
       "    </tr>\n",
       "    <tr>\n",
       "      <th>LT_old_mouse2_plate1_nostim_sc_A3_S195</th>\n",
       "      <td>GSM2680762</td>\n",
       "      <td>LT_old_mouse2_plate1_nostim_sc_A3_S195</td>\n",
       "      <td>SRA</td>\n",
       "      <td>Mus musculus</td>\n",
       "      <td>1</td>\n",
       "      <td>GPL19057</td>\n",
       "      <td>GSE100426;GSE100428</td>\n",
       "      <td>SRA Run Selector</td>\n",
       "      <td>https://www.ncbi.nlm.nih.gov/Traces/study/?acc...</td>\n",
       "      <td>SRX2951006</td>\n",
       "      <td>...</td>\n",
       "      <td>Jul 19, 2017</td>\n",
       "      <td>LT</td>\n",
       "      <td>old</td>\n",
       "      <td>b1</td>\n",
       "      <td>nostim</td>\n",
       "      <td>LT_old_mouse2_plate1_nostim_sc_A3_S195</td>\n",
       "      <td>LT_old</td>\n",
       "      <td>3253</td>\n",
       "      <td>274131.0</td>\n",
       "      <td>0.228863</td>\n",
       "    </tr>\n",
       "    <tr>\n",
       "      <th>LT_old_mouse2_plate1_nostim_sc_A4_S196</th>\n",
       "      <td>GSM2680763</td>\n",
       "      <td>LT_old_mouse2_plate1_nostim_sc_A4_S196</td>\n",
       "      <td>SRA</td>\n",
       "      <td>Mus musculus</td>\n",
       "      <td>1</td>\n",
       "      <td>GPL19057</td>\n",
       "      <td>GSE100426;GSE100428</td>\n",
       "      <td>SRA Run Selector</td>\n",
       "      <td>https://www.ncbi.nlm.nih.gov/Traces/study/?acc...</td>\n",
       "      <td>SRX2951007</td>\n",
       "      <td>...</td>\n",
       "      <td>Jul 19, 2017</td>\n",
       "      <td>LT</td>\n",
       "      <td>old</td>\n",
       "      <td>b1</td>\n",
       "      <td>nostim</td>\n",
       "      <td>LT_old_mouse2_plate1_nostim_sc_A4_S196</td>\n",
       "      <td>LT_old</td>\n",
       "      <td>3300</td>\n",
       "      <td>219081.0</td>\n",
       "      <td>-0.028496</td>\n",
       "    </tr>\n",
       "    <tr>\n",
       "      <th>LT_old_mouse2_plate1_nostim_sc_B1_S205</th>\n",
       "      <td>GSM2680764</td>\n",
       "      <td>LT_old_mouse2_plate1_nostim_sc_B1_S205</td>\n",
       "      <td>SRA</td>\n",
       "      <td>Mus musculus</td>\n",
       "      <td>1</td>\n",
       "      <td>GPL19057</td>\n",
       "      <td>GSE100426;GSE100428</td>\n",
       "      <td>SRA Run Selector</td>\n",
       "      <td>https://www.ncbi.nlm.nih.gov/Traces/study/?acc...</td>\n",
       "      <td>SRX2951008</td>\n",
       "      <td>...</td>\n",
       "      <td>Jul 19, 2017</td>\n",
       "      <td>LT</td>\n",
       "      <td>old</td>\n",
       "      <td>b1</td>\n",
       "      <td>nostim</td>\n",
       "      <td>LT_old_mouse2_plate1_nostim_sc_B1_S205</td>\n",
       "      <td>LT_old</td>\n",
       "      <td>3567</td>\n",
       "      <td>206210.0</td>\n",
       "      <td>-0.458752</td>\n",
       "    </tr>\n",
       "  </tbody>\n",
       "</table>\n",
       "<p>5 rows × 21 columns</p>\n",
       "</div>"
      ],
      "text/plain": [
       "                                         Accession  \\\n",
       "LT_old_mouse2_plate1_nostim_sc_A1_S193  GSM2680760   \n",
       "LT_old_mouse2_plate1_nostim_sc_A2_S194  GSM2680761   \n",
       "LT_old_mouse2_plate1_nostim_sc_A3_S195  GSM2680762   \n",
       "LT_old_mouse2_plate1_nostim_sc_A4_S196  GSM2680763   \n",
       "LT_old_mouse2_plate1_nostim_sc_B1_S205  GSM2680764   \n",
       "\n",
       "                                                                         Title  \\\n",
       "LT_old_mouse2_plate1_nostim_sc_A1_S193  LT_old_mouse2_plate1_nostim_sc_A1_S193   \n",
       "LT_old_mouse2_plate1_nostim_sc_A2_S194  LT_old_mouse2_plate1_nostim_sc_A2_S194   \n",
       "LT_old_mouse2_plate1_nostim_sc_A3_S195  LT_old_mouse2_plate1_nostim_sc_A3_S195   \n",
       "LT_old_mouse2_plate1_nostim_sc_A4_S196  LT_old_mouse2_plate1_nostim_sc_A4_S196   \n",
       "LT_old_mouse2_plate1_nostim_sc_B1_S205  LT_old_mouse2_plate1_nostim_sc_B1_S205   \n",
       "\n",
       "                                       Sample.Type      Taxonomy  Channels  \\\n",
       "LT_old_mouse2_plate1_nostim_sc_A1_S193         SRA  Mus musculus         1   \n",
       "LT_old_mouse2_plate1_nostim_sc_A2_S194         SRA  Mus musculus         1   \n",
       "LT_old_mouse2_plate1_nostim_sc_A3_S195         SRA  Mus musculus         1   \n",
       "LT_old_mouse2_plate1_nostim_sc_A4_S196         SRA  Mus musculus         1   \n",
       "LT_old_mouse2_plate1_nostim_sc_B1_S205         SRA  Mus musculus         1   \n",
       "\n",
       "                                        Platform               Series  \\\n",
       "LT_old_mouse2_plate1_nostim_sc_A1_S193  GPL19057  GSE100426;GSE100428   \n",
       "LT_old_mouse2_plate1_nostim_sc_A2_S194  GPL19057  GSE100426;GSE100428   \n",
       "LT_old_mouse2_plate1_nostim_sc_A3_S195  GPL19057  GSE100426;GSE100428   \n",
       "LT_old_mouse2_plate1_nostim_sc_A4_S196  GPL19057  GSE100426;GSE100428   \n",
       "LT_old_mouse2_plate1_nostim_sc_B1_S205  GPL19057  GSE100426;GSE100428   \n",
       "\n",
       "                                       Supplementary.Types  \\\n",
       "LT_old_mouse2_plate1_nostim_sc_A1_S193    SRA Run Selector   \n",
       "LT_old_mouse2_plate1_nostim_sc_A2_S194    SRA Run Selector   \n",
       "LT_old_mouse2_plate1_nostim_sc_A3_S195    SRA Run Selector   \n",
       "LT_old_mouse2_plate1_nostim_sc_A4_S196    SRA Run Selector   \n",
       "LT_old_mouse2_plate1_nostim_sc_B1_S205    SRA Run Selector   \n",
       "\n",
       "                                                                      Supplementary.Links  \\\n",
       "LT_old_mouse2_plate1_nostim_sc_A1_S193  https://www.ncbi.nlm.nih.gov/Traces/study/?acc...   \n",
       "LT_old_mouse2_plate1_nostim_sc_A2_S194  https://www.ncbi.nlm.nih.gov/Traces/study/?acc...   \n",
       "LT_old_mouse2_plate1_nostim_sc_A3_S195  https://www.ncbi.nlm.nih.gov/Traces/study/?acc...   \n",
       "LT_old_mouse2_plate1_nostim_sc_A4_S196  https://www.ncbi.nlm.nih.gov/Traces/study/?acc...   \n",
       "LT_old_mouse2_plate1_nostim_sc_B1_S205  https://www.ncbi.nlm.nih.gov/Traces/study/?acc...   \n",
       "\n",
       "                                       SRA.Accession  ...  Release.Date  ct  \\\n",
       "LT_old_mouse2_plate1_nostim_sc_A1_S193    SRX2951004  ...  Jul 19, 2017  LT   \n",
       "LT_old_mouse2_plate1_nostim_sc_A2_S194    SRX2951005  ...  Jul 19, 2017  LT   \n",
       "LT_old_mouse2_plate1_nostim_sc_A3_S195    SRX2951006  ...  Jul 19, 2017  LT   \n",
       "LT_old_mouse2_plate1_nostim_sc_A4_S196    SRX2951007  ...  Jul 19, 2017  LT   \n",
       "LT_old_mouse2_plate1_nostim_sc_B1_S205    SRX2951008  ...  Jul 19, 2017  LT   \n",
       "\n",
       "                                        age batch     con  \\\n",
       "LT_old_mouse2_plate1_nostim_sc_A1_S193  old    b1  nostim   \n",
       "LT_old_mouse2_plate1_nostim_sc_A2_S194  old    b1  nostim   \n",
       "LT_old_mouse2_plate1_nostim_sc_A3_S195  old    b1  nostim   \n",
       "LT_old_mouse2_plate1_nostim_sc_A4_S196  old    b1  nostim   \n",
       "LT_old_mouse2_plate1_nostim_sc_B1_S205  old    b1  nostim   \n",
       "\n",
       "                                                                            ID  \\\n",
       "LT_old_mouse2_plate1_nostim_sc_A1_S193  LT_old_mouse2_plate1_nostim_sc_A1_S193   \n",
       "LT_old_mouse2_plate1_nostim_sc_A2_S194  LT_old_mouse2_plate1_nostim_sc_A2_S194   \n",
       "LT_old_mouse2_plate1_nostim_sc_A3_S195  LT_old_mouse2_plate1_nostim_sc_A3_S195   \n",
       "LT_old_mouse2_plate1_nostim_sc_A4_S196  LT_old_mouse2_plate1_nostim_sc_A4_S196   \n",
       "LT_old_mouse2_plate1_nostim_sc_B1_S205  LT_old_mouse2_plate1_nostim_sc_B1_S205   \n",
       "\n",
       "                                       Condition n_genes  n_counts      p53S  \n",
       "LT_old_mouse2_plate1_nostim_sc_A1_S193    LT_old    3727  253386.0 -0.117444  \n",
       "LT_old_mouse2_plate1_nostim_sc_A2_S194    LT_old    3644  196654.0 -0.154416  \n",
       "LT_old_mouse2_plate1_nostim_sc_A3_S195    LT_old    3253  274131.0  0.228863  \n",
       "LT_old_mouse2_plate1_nostim_sc_A4_S196    LT_old    3300  219081.0 -0.028496  \n",
       "LT_old_mouse2_plate1_nostim_sc_B1_S205    LT_old    3567  206210.0 -0.458752  \n",
       "\n",
       "[5 rows x 21 columns]"
      ]
     },
     "execution_count": 29,
     "metadata": {},
     "output_type": "execute_result"
    }
   ],
   "source": [
    "GSE100426.obs.head()"
   ]
  },
  {
   "cell_type": "code",
   "execution_count": 6,
   "id": "18812a97",
   "metadata": {},
   "outputs": [],
   "source": [
    "GSE100426.obs['Condition'] = GSE100426.obs['ct'].astype(str)+'_'+GSE100426.obs['age'].astype(str)"
   ]
  },
  {
   "cell_type": "code",
   "execution_count": 30,
   "id": "291f75aa",
   "metadata": {},
   "outputs": [
    {
     "data": {
      "text/plain": [
       "MPP_old      140\n",
       "ST_old       138\n",
       "LT_old       114\n",
       "MPP_young     97\n",
       "ST_young      93\n",
       "LT_young      89\n",
       "Name: Condition, dtype: int64"
      ]
     },
     "execution_count": 30,
     "metadata": {},
     "output_type": "execute_result"
    }
   ],
   "source": [
    "GSE100426.obs['Condition'].value_counts()"
   ]
  },
  {
   "cell_type": "markdown",
   "id": "daeb8e96",
   "metadata": {},
   "source": [
    "# QC and normalisation"
   ]
  },
  {
   "cell_type": "code",
   "execution_count": 7,
   "id": "878d86aa",
   "metadata": {},
   "outputs": [
    {
     "name": "stdout",
     "output_type": "stream",
     "text": [
      "filtered out 4065 genes that are detected in less than 1 cells\n"
     ]
    }
   ],
   "source": [
    "sc.pp.filter_cells(GSE100426, min_genes=500)\n",
    "sc.pp.filter_genes(GSE100426, min_cells=1)"
   ]
  },
  {
   "cell_type": "code",
   "execution_count": 10,
   "id": "e3499acb",
   "metadata": {},
   "outputs": [],
   "source": [
    "GSE100426.write('./write/raw_GSE100426.h5ad')"
   ]
  },
  {
   "cell_type": "code",
   "execution_count": 11,
   "id": "b8b23e3f",
   "metadata": {},
   "outputs": [
    {
     "name": "stdout",
     "output_type": "stream",
     "text": [
      "normalizing by total count per cell\n",
      "    finished (0:00:00): normalized adata.X and added    'n_counts', counts per cell before normalization (adata.obs)\n"
     ]
    }
   ],
   "source": [
    "sc.pp.normalize_per_cell(GSE100426, counts_per_cell_after=1e4)"
   ]
  },
  {
   "cell_type": "code",
   "execution_count": 12,
   "id": "0ad25ac5",
   "metadata": {},
   "outputs": [],
   "source": [
    "sc.pp.log1p(GSE100426)"
   ]
  },
  {
   "cell_type": "code",
   "execution_count": 13,
   "id": "abb52806",
   "metadata": {},
   "outputs": [],
   "source": [
    "GSE100426.raw = GSE100426"
   ]
  },
  {
   "cell_type": "code",
   "execution_count": 14,
   "id": "722d5156",
   "metadata": {},
   "outputs": [],
   "source": [
    "GSE100426.write('./write/norm_GSE100426.h5ad')"
   ]
  },
  {
   "cell_type": "markdown",
   "id": "e2c619c2",
   "metadata": {},
   "source": [
    "# p53 Score Calculation"
   ]
  },
  {
   "cell_type": "code",
   "execution_count": 15,
   "id": "50e1bafd",
   "metadata": {},
   "outputs": [],
   "source": [
    "GSE100426 = sc.read('./write/norm_GSE100426.h5ad')"
   ]
  },
  {
   "cell_type": "code",
   "execution_count": 16,
   "id": "ab8964f8",
   "metadata": {},
   "outputs": [],
   "source": [
    "GSE100426_norm = anndata.AnnData(X=GSE100426.raw.X, obs=GSE100426.obs, var=GSE100426.raw.var)"
   ]
  },
  {
   "cell_type": "code",
   "execution_count": 17,
   "id": "43e430ef",
   "metadata": {},
   "outputs": [],
   "source": [
    "sc.pp.scale(GSE100426_norm)"
   ]
  },
  {
   "cell_type": "code",
   "execution_count": 19,
   "id": "e0a12d51",
   "metadata": {},
   "outputs": [],
   "source": [
    "p53GL = np.genfromtxt('/home/xw251/rds/rds-bg200-hphi-gottgens/users/xw251/Lab_Members/Niki/Patel_SMQ2/Analysis_17Feb2021/p53GL.txt', dtype='str')"
   ]
  },
  {
   "cell_type": "code",
   "execution_count": 20,
   "id": "33b8b0cf",
   "metadata": {},
   "outputs": [
    {
     "name": "stdout",
     "output_type": "stream",
     "text": [
      "['Aen' 'Bax' 'Bbc3' 'Casp1' 'Ccng1' 'Cdkn1a' 'Ctsd' 'Eda2r' 'Ier5' 'Perp'\n",
      " 'Phlda3' 'Pml' 'Pvt1' 'Sulf2' 'Tnfrsf10b' 'Zmat3']\n"
     ]
    }
   ],
   "source": [
    "print(p53GL)"
   ]
  },
  {
   "cell_type": "code",
   "execution_count": 21,
   "id": "56c8d6bf",
   "metadata": {},
   "outputs": [
    {
     "name": "stdout",
     "output_type": "stream",
     "text": [
      "computing score 'p53S'\n",
      "    finished: added\n",
      "    'p53S', score of gene set (adata.obs).\n",
      "    499 total control genes are used. (0:00:00)\n"
     ]
    }
   ],
   "source": [
    "sc.tl.score_genes(GSE100426_norm,np.array(p53GL), score_name = 'p53S', use_raw=False)"
   ]
  },
  {
   "cell_type": "code",
   "execution_count": 22,
   "id": "889f5a5f",
   "metadata": {},
   "outputs": [],
   "source": [
    "GSE100426.obs['p53S'] = GSE100426_norm.obs['p53S']"
   ]
  },
  {
   "cell_type": "code",
   "execution_count": 39,
   "id": "97e9363e",
   "metadata": {},
   "outputs": [],
   "source": [
    "GSE100426.obs['age'] = GSE100426.obs['age'].astype('category')"
   ]
  },
  {
   "cell_type": "code",
   "execution_count": 26,
   "id": "d22bd329",
   "metadata": {},
   "outputs": [
    {
     "data": {
      "text/plain": [
       "Index(['old', 'young'], dtype='object')"
      ]
     },
     "execution_count": 26,
     "metadata": {},
     "output_type": "execute_result"
    }
   ],
   "source": [
    "GSE100426.obs['age'].cat.categories"
   ]
  },
  {
   "cell_type": "code",
   "execution_count": 40,
   "id": "4b3f2100",
   "metadata": {},
   "outputs": [],
   "source": [
    "GSE100426.obs['age'] = GSE100426.obs['age'].cat.reorder_categories(['young', 'old'])"
   ]
  },
  {
   "cell_type": "code",
   "execution_count": 41,
   "id": "b8286e4d",
   "metadata": {},
   "outputs": [],
   "source": [
    "GSE100426.write('./write/processed_GSE100426.h5ad')"
   ]
  },
  {
   "cell_type": "code",
   "execution_count": 43,
   "id": "80c2c24b",
   "metadata": {},
   "outputs": [],
   "source": [
    "GSE100426 = sc.read('./write/processed_GSE100426.h5ad')"
   ]
  },
  {
   "cell_type": "code",
   "execution_count": 44,
   "id": "41d41e07",
   "metadata": {},
   "outputs": [],
   "source": [
    "# Extract HSCs only\n",
    "GSE100426 = GSE100426[GSE100426.obs['ct'] != 'MPP'].copy()"
   ]
  },
  {
   "cell_type": "code",
   "execution_count": 45,
   "id": "dff98bd8",
   "metadata": {},
   "outputs": [
    {
     "name": "stdout",
     "output_type": "stream",
     "text": [
      "young v.s. old: Mann-Whitney-Wilcoxon test two-sided with Bonferroni correction, P_val=8.081e-04 U_stat=1.861e+04\n"
     ]
    },
    {
     "data": {
      "text/plain": [
       "(<AxesSubplot:ylabel='p53S'>,\n",
       " [<statannot.StatResult.StatResult at 0x2b47e3dd5070>])"
      ]
     },
     "execution_count": 45,
     "metadata": {},
     "output_type": "execute_result"
    },
    {
     "data": {
      "image/png": "[encoded data removed]",
      "text/plain": [
       "<Figure size 480x320 with 1 Axes>"
      ]
     },
     "metadata": {
      "image/png": {
       "height": 315,
       "width": 455
      },
      "needs_background": "light"
     },
     "output_type": "display_data"
    }
   ],
   "source": [
    "# Figure6C\n",
    "from statannot import add_stat_annotation\n",
    "fig, ax = plt.subplots(figsize=(6,4))\n",
    "sns.violinplot(x='age', y='p53S', scale='width', data=GSE100426.obs, ax=ax)\n",
    "sns.stripplot(x=\"age\", y=\"p53S\", data=GSE100426.obs, jitter=True, zorder=1, color=\".3\")\n",
    "ax.set_xticklabels(labels=GSE100426.obs['age'].cat.categories,rotation=90)\n",
    "ax.grid(False)\n",
    "ax.set_xlabel('')\n",
    "ax.axhline(y=0, linestyle=\"--\", c='grey')\n",
    "add_stat_annotation(ax, data=GSE100426.obs, x='age', y='p53S',\n",
    "                        box_pairs=[('old', 'young')],\n",
    "                        test='Mann-Whitney', text_format='simple', loc='inside', verbose=2)"
   ]
  }
 ],
 "metadata": {
  "kernelspec": {
   "display_name": "Python 3 (ipykernel)",
   "language": "python",
   "name": "python3"
  },
  "language_info": {
   "codemirror_mode": {
    "name": "ipython",
    "version": 3
   },
   "file_extension": ".py",
   "mimetype": "text/x-python",
   "name": "python",
   "nbconvert_exporter": "python",
   "pygments_lexer": "ipython3",
   "version": "3.8.12"
  }
 },
 "nbformat": 4,
 "nbformat_minor": 5
}
