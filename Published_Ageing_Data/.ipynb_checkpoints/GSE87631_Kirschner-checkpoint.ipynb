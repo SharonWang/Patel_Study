{
 "cells": [
  {
   "cell_type": "markdown",
   "id": "f8137e48",
   "metadata": {},
   "source": [
    "# GSE87631 - Kirschner\n",
    "## Xiaonan Wang\n",
    "## 24May2023"
   ]
  },
  {
   "cell_type": "code",
   "execution_count": 1,
   "id": "f587806c",
   "metadata": {},
   "outputs": [
    {
     "name": "stdout",
     "output_type": "stream",
     "text": [
      "scanpy==1.8.2 anndata==0.7.8 umap==0.5.2 numpy==1.20.3 scipy==1.7.3 pandas==1.3.5 scikit-learn==1.0.1 statsmodels==0.13.1 python-igraph==0.9.8 louvain==0.7.1 pynndescent==0.5.5\n",
      "0.1.2\n"
     ]
    }
   ],
   "source": [
    "#%matplotlib nbagg\n",
    "import numpy as np\n",
    "import matplotlib.pyplot as plt\n",
    "import scanpy as sc\n",
    "import pandas as pd\n",
    "from os import listdir\n",
    "from os.path import isfile, join\n",
    "import re\n",
    "import anndata\n",
    "import seaborn as sns\n",
    "import smqpp\n",
    "\n",
    "plt.rcParams['pdf.fonttype'] = 42\n",
    "plt.rcParams['ps.fonttype'] = 42\n",
    "\n",
    "sc.settings.verbosity = 3  # verbosity: errors (0), warnings (1), info (2), hints (3)\n",
    "sc.logging.print_header()\n",
    "print(smqpp.__version__)\n",
    "\n",
    "from matplotlib.colors import LinearSegmentedColormap\n",
    "cmap = LinearSegmentedColormap.from_list(name='gene_cmap', colors=['lightgrey', 'thistle', 'red', 'darkred']) \n",
    "\n",
    "sc.settings.set_figure_params(dpi=80, color_map='viridis', vector_friendly=False,  dpi_save=300)"
   ]
  },
  {
   "cell_type": "markdown",
   "id": "5a6dacb3",
   "metadata": {},
   "source": [
    "# Read in and tidyup"
   ]
  },
  {
   "cell_type": "code",
   "execution_count": 2,
   "id": "4136d45a",
   "metadata": {},
   "outputs": [],
   "source": [
    "meta = pd.read_csv('./Data/GSE87631_series_matrix.txt', skiprows=27, sep=\"\\t\", header=None, index_col=0)"
   ]
  },
  {
   "cell_type": "code",
   "execution_count": 3,
   "id": "9dd36071",
   "metadata": {},
   "outputs": [],
   "source": [
    "meta1 = meta.loc[['!Sample_title', '!Sample_geo_accession','!Sample_description','!Sample_characteristics_ch1'],:].copy().T"
   ]
  },
  {
   "cell_type": "code",
   "execution_count": 4,
   "id": "b5096e9e",
   "metadata": {},
   "outputs": [
    {
     "data": {
      "text/html": [
       "<div>\n",
       "<style scoped>\n",
       "    .dataframe tbody tr th:only-of-type {\n",
       "        vertical-align: middle;\n",
       "    }\n",
       "\n",
       "    .dataframe tbody tr th {\n",
       "        vertical-align: top;\n",
       "    }\n",
       "\n",
       "    .dataframe thead th {\n",
       "        text-align: right;\n",
       "    }\n",
       "</style>\n",
       "<table border=\"1\" class=\"dataframe\">\n",
       "  <thead>\n",
       "    <tr style=\"text-align: right;\">\n",
       "      <th></th>\n",
       "      <th>!Sample_title</th>\n",
       "      <th>!Sample_geo_accession</th>\n",
       "      <th>!Sample_description</th>\n",
       "      <th>!Sample_characteristics_ch1</th>\n",
       "      <th>!Sample_characteristics_ch1</th>\n",
       "      <th>!Sample_characteristics_ch1</th>\n",
       "      <th>!Sample_characteristics_ch1</th>\n",
       "    </tr>\n",
       "  </thead>\n",
       "  <tbody>\n",
       "    <tr>\n",
       "      <th>1</th>\n",
       "      <td>SLX-9772.N701_N502</td>\n",
       "      <td>GSM2336016</td>\n",
       "      <td>Old HSC JAK2 HOM</td>\n",
       "      <td>tissue: whole bone marrow</td>\n",
       "      <td>cell type: Hematopoietic Stem Cell</td>\n",
       "      <td>age: 18 Months (Old)</td>\n",
       "      <td>genotype: JAK2 V617F Homozygous</td>\n",
       "    </tr>\n",
       "    <tr>\n",
       "      <th>2</th>\n",
       "      <td>SLX-9772.N701_N503</td>\n",
       "      <td>GSM2336017</td>\n",
       "      <td>Old HSC JAK2 HOM</td>\n",
       "      <td>tissue: whole bone marrow</td>\n",
       "      <td>cell type: Hematopoietic Stem Cell</td>\n",
       "      <td>age: 18 Months (Old)</td>\n",
       "      <td>genotype: JAK2 V617F Homozygous</td>\n",
       "    </tr>\n",
       "    <tr>\n",
       "      <th>3</th>\n",
       "      <td>SLX-9772.N701_N504</td>\n",
       "      <td>GSM2336018</td>\n",
       "      <td>Old HSC JAK2 HOM</td>\n",
       "      <td>tissue: whole bone marrow</td>\n",
       "      <td>cell type: Hematopoietic Stem Cell</td>\n",
       "      <td>age: 18 Months (Old)</td>\n",
       "      <td>genotype: JAK2 V617F Homozygous</td>\n",
       "    </tr>\n",
       "    <tr>\n",
       "      <th>4</th>\n",
       "      <td>SLX-9772.N701_N505</td>\n",
       "      <td>GSM2336019</td>\n",
       "      <td>Old HSC JAK2 HOM</td>\n",
       "      <td>tissue: whole bone marrow</td>\n",
       "      <td>cell type: Hematopoietic Stem Cell</td>\n",
       "      <td>age: 18 Months (Old)</td>\n",
       "      <td>genotype: JAK2 V617F Homozygous</td>\n",
       "    </tr>\n",
       "    <tr>\n",
       "      <th>5</th>\n",
       "      <td>SLX-9772.N701_N506</td>\n",
       "      <td>GSM2336020</td>\n",
       "      <td>Old HSC JAK2 HOM</td>\n",
       "      <td>tissue: whole bone marrow</td>\n",
       "      <td>cell type: Hematopoietic Stem Cell</td>\n",
       "      <td>age: 18 Months (Old)</td>\n",
       "      <td>genotype: JAK2 V617F Homozygous</td>\n",
       "    </tr>\n",
       "  </tbody>\n",
       "</table>\n",
       "</div>"
      ],
      "text/plain": [
       "0       !Sample_title !Sample_geo_accession !Sample_description  \\\n",
       "1  SLX-9772.N701_N502            GSM2336016    Old HSC JAK2 HOM   \n",
       "2  SLX-9772.N701_N503            GSM2336017    Old HSC JAK2 HOM   \n",
       "3  SLX-9772.N701_N504            GSM2336018    Old HSC JAK2 HOM   \n",
       "4  SLX-9772.N701_N505            GSM2336019    Old HSC JAK2 HOM   \n",
       "5  SLX-9772.N701_N506            GSM2336020    Old HSC JAK2 HOM   \n",
       "\n",
       "0 !Sample_characteristics_ch1         !Sample_characteristics_ch1  \\\n",
       "1   tissue: whole bone marrow  cell type: Hematopoietic Stem Cell   \n",
       "2   tissue: whole bone marrow  cell type: Hematopoietic Stem Cell   \n",
       "3   tissue: whole bone marrow  cell type: Hematopoietic Stem Cell   \n",
       "4   tissue: whole bone marrow  cell type: Hematopoietic Stem Cell   \n",
       "5   tissue: whole bone marrow  cell type: Hematopoietic Stem Cell   \n",
       "\n",
       "0 !Sample_characteristics_ch1      !Sample_characteristics_ch1  \n",
       "1        age: 18 Months (Old)  genotype: JAK2 V617F Homozygous  \n",
       "2        age: 18 Months (Old)  genotype: JAK2 V617F Homozygous  \n",
       "3        age: 18 Months (Old)  genotype: JAK2 V617F Homozygous  \n",
       "4        age: 18 Months (Old)  genotype: JAK2 V617F Homozygous  \n",
       "5        age: 18 Months (Old)  genotype: JAK2 V617F Homozygous  "
      ]
     },
     "execution_count": 4,
     "metadata": {},
     "output_type": "execute_result"
    }
   ],
   "source": [
    "meta1.head()"
   ]
  },
  {
   "cell_type": "code",
   "execution_count": 5,
   "id": "6e816db3",
   "metadata": {},
   "outputs": [],
   "source": [
    "meta1.columns = ['SLX', 'GSM', 'Condition', 'tissue', 'cell_type', 'age', 'genotype']"
   ]
  },
  {
   "cell_type": "code",
   "execution_count": 6,
   "id": "78432189",
   "metadata": {},
   "outputs": [
    {
     "data": {
      "text/plain": [
       "(1152, 7)"
      ]
     },
     "execution_count": 6,
     "metadata": {},
     "output_type": "execute_result"
    }
   ],
   "source": [
    "meta1.shape"
   ]
  },
  {
   "cell_type": "code",
   "execution_count": 7,
   "id": "cffd2963",
   "metadata": {},
   "outputs": [],
   "source": [
    "meta1 = meta1.set_index('SLX')"
   ]
  },
  {
   "cell_type": "code",
   "execution_count": 8,
   "id": "b7ade7ff",
   "metadata": {},
   "outputs": [
    {
     "data": {
      "text/html": [
       "<div>\n",
       "<style scoped>\n",
       "    .dataframe tbody tr th:only-of-type {\n",
       "        vertical-align: middle;\n",
       "    }\n",
       "\n",
       "    .dataframe tbody tr th {\n",
       "        vertical-align: top;\n",
       "    }\n",
       "\n",
       "    .dataframe thead th {\n",
       "        text-align: right;\n",
       "    }\n",
       "</style>\n",
       "<table border=\"1\" class=\"dataframe\">\n",
       "  <thead>\n",
       "    <tr style=\"text-align: right;\">\n",
       "      <th></th>\n",
       "      <th>GSM</th>\n",
       "      <th>Condition</th>\n",
       "      <th>tissue</th>\n",
       "      <th>cell_type</th>\n",
       "      <th>age</th>\n",
       "      <th>genotype</th>\n",
       "    </tr>\n",
       "    <tr>\n",
       "      <th>SLX</th>\n",
       "      <th></th>\n",
       "      <th></th>\n",
       "      <th></th>\n",
       "      <th></th>\n",
       "      <th></th>\n",
       "      <th></th>\n",
       "    </tr>\n",
       "  </thead>\n",
       "  <tbody>\n",
       "    <tr>\n",
       "      <th>SLX-9772.N701_N502</th>\n",
       "      <td>GSM2336016</td>\n",
       "      <td>Old HSC JAK2 HOM</td>\n",
       "      <td>tissue: whole bone marrow</td>\n",
       "      <td>cell type: Hematopoietic Stem Cell</td>\n",
       "      <td>age: 18 Months (Old)</td>\n",
       "      <td>genotype: JAK2 V617F Homozygous</td>\n",
       "    </tr>\n",
       "    <tr>\n",
       "      <th>SLX-9772.N701_N503</th>\n",
       "      <td>GSM2336017</td>\n",
       "      <td>Old HSC JAK2 HOM</td>\n",
       "      <td>tissue: whole bone marrow</td>\n",
       "      <td>cell type: Hematopoietic Stem Cell</td>\n",
       "      <td>age: 18 Months (Old)</td>\n",
       "      <td>genotype: JAK2 V617F Homozygous</td>\n",
       "    </tr>\n",
       "    <tr>\n",
       "      <th>SLX-9772.N701_N504</th>\n",
       "      <td>GSM2336018</td>\n",
       "      <td>Old HSC JAK2 HOM</td>\n",
       "      <td>tissue: whole bone marrow</td>\n",
       "      <td>cell type: Hematopoietic Stem Cell</td>\n",
       "      <td>age: 18 Months (Old)</td>\n",
       "      <td>genotype: JAK2 V617F Homozygous</td>\n",
       "    </tr>\n",
       "    <tr>\n",
       "      <th>SLX-9772.N701_N505</th>\n",
       "      <td>GSM2336019</td>\n",
       "      <td>Old HSC JAK2 HOM</td>\n",
       "      <td>tissue: whole bone marrow</td>\n",
       "      <td>cell type: Hematopoietic Stem Cell</td>\n",
       "      <td>age: 18 Months (Old)</td>\n",
       "      <td>genotype: JAK2 V617F Homozygous</td>\n",
       "    </tr>\n",
       "    <tr>\n",
       "      <th>SLX-9772.N701_N506</th>\n",
       "      <td>GSM2336020</td>\n",
       "      <td>Old HSC JAK2 HOM</td>\n",
       "      <td>tissue: whole bone marrow</td>\n",
       "      <td>cell type: Hematopoietic Stem Cell</td>\n",
       "      <td>age: 18 Months (Old)</td>\n",
       "      <td>genotype: JAK2 V617F Homozygous</td>\n",
       "    </tr>\n",
       "  </tbody>\n",
       "</table>\n",
       "</div>"
      ],
      "text/plain": [
       "                           GSM         Condition                     tissue  \\\n",
       "SLX                                                                           \n",
       "SLX-9772.N701_N502  GSM2336016  Old HSC JAK2 HOM  tissue: whole bone marrow   \n",
       "SLX-9772.N701_N503  GSM2336017  Old HSC JAK2 HOM  tissue: whole bone marrow   \n",
       "SLX-9772.N701_N504  GSM2336018  Old HSC JAK2 HOM  tissue: whole bone marrow   \n",
       "SLX-9772.N701_N505  GSM2336019  Old HSC JAK2 HOM  tissue: whole bone marrow   \n",
       "SLX-9772.N701_N506  GSM2336020  Old HSC JAK2 HOM  tissue: whole bone marrow   \n",
       "\n",
       "                                             cell_type                   age  \\\n",
       "SLX                                                                            \n",
       "SLX-9772.N701_N502  cell type: Hematopoietic Stem Cell  age: 18 Months (Old)   \n",
       "SLX-9772.N701_N503  cell type: Hematopoietic Stem Cell  age: 18 Months (Old)   \n",
       "SLX-9772.N701_N504  cell type: Hematopoietic Stem Cell  age: 18 Months (Old)   \n",
       "SLX-9772.N701_N505  cell type: Hematopoietic Stem Cell  age: 18 Months (Old)   \n",
       "SLX-9772.N701_N506  cell type: Hematopoietic Stem Cell  age: 18 Months (Old)   \n",
       "\n",
       "                                           genotype  \n",
       "SLX                                                  \n",
       "SLX-9772.N701_N502  genotype: JAK2 V617F Homozygous  \n",
       "SLX-9772.N701_N503  genotype: JAK2 V617F Homozygous  \n",
       "SLX-9772.N701_N504  genotype: JAK2 V617F Homozygous  \n",
       "SLX-9772.N701_N505  genotype: JAK2 V617F Homozygous  \n",
       "SLX-9772.N701_N506  genotype: JAK2 V617F Homozygous  "
      ]
     },
     "execution_count": 8,
     "metadata": {},
     "output_type": "execute_result"
    }
   ],
   "source": [
    "meta1.head()"
   ]
  },
  {
   "cell_type": "code",
   "execution_count": 10,
   "id": "dc3da62d",
   "metadata": {},
   "outputs": [
    {
     "name": "stdout",
     "output_type": "stream",
     "text": [
      "--> This might be very slow. Consider passing `cache=True`, which enables much faster reading from a cache file.\n"
     ]
    }
   ],
   "source": [
    "GSE87631 = sc.read('./Data/GSE87631.txt').T"
   ]
  },
  {
   "cell_type": "code",
   "execution_count": 11,
   "id": "515c58aa",
   "metadata": {},
   "outputs": [
    {
     "data": {
      "text/plain": [
       "(1152, 41485)"
      ]
     },
     "execution_count": 11,
     "metadata": {},
     "output_type": "execute_result"
    }
   ],
   "source": [
    "GSE87631.shape"
   ]
  },
  {
   "cell_type": "code",
   "execution_count": 12,
   "id": "8c91e43b",
   "metadata": {},
   "outputs": [
    {
     "data": {
      "text/html": [
       "<div>\n",
       "<style scoped>\n",
       "    .dataframe tbody tr th:only-of-type {\n",
       "        vertical-align: middle;\n",
       "    }\n",
       "\n",
       "    .dataframe tbody tr th {\n",
       "        vertical-align: top;\n",
       "    }\n",
       "\n",
       "    .dataframe thead th {\n",
       "        text-align: right;\n",
       "    }\n",
       "</style>\n",
       "<table border=\"1\" class=\"dataframe\">\n",
       "  <thead>\n",
       "    <tr style=\"text-align: right;\">\n",
       "      <th></th>\n",
       "    </tr>\n",
       "  </thead>\n",
       "  <tbody>\n",
       "    <tr>\n",
       "      <th>SLX-13212.N701_N502</th>\n",
       "    </tr>\n",
       "    <tr>\n",
       "      <th>SLX-13212.N701_N503</th>\n",
       "    </tr>\n",
       "    <tr>\n",
       "      <th>SLX-13212.N701_N504</th>\n",
       "    </tr>\n",
       "    <tr>\n",
       "      <th>SLX-13212.N701_N505</th>\n",
       "    </tr>\n",
       "    <tr>\n",
       "      <th>SLX-13212.N701_N506</th>\n",
       "    </tr>\n",
       "  </tbody>\n",
       "</table>\n",
       "</div>"
      ],
      "text/plain": [
       "Empty DataFrame\n",
       "Columns: []\n",
       "Index: [SLX-13212.N701_N502, SLX-13212.N701_N503, SLX-13212.N701_N504, SLX-13212.N701_N505, SLX-13212.N701_N506]"
      ]
     },
     "execution_count": 12,
     "metadata": {},
     "output_type": "execute_result"
    }
   ],
   "source": [
    "GSE87631.obs.head()"
   ]
  },
  {
   "cell_type": "code",
   "execution_count": 13,
   "id": "be2c9b3f",
   "metadata": {},
   "outputs": [],
   "source": [
    "GSE87631.obs = pd.concat([GSE87631.obs, meta1], axis=1)"
   ]
  },
  {
   "cell_type": "code",
   "execution_count": 14,
   "id": "cfd597da",
   "metadata": {},
   "outputs": [
    {
     "data": {
      "text/html": [
       "<div>\n",
       "<style scoped>\n",
       "    .dataframe tbody tr th:only-of-type {\n",
       "        vertical-align: middle;\n",
       "    }\n",
       "\n",
       "    .dataframe tbody tr th {\n",
       "        vertical-align: top;\n",
       "    }\n",
       "\n",
       "    .dataframe thead th {\n",
       "        text-align: right;\n",
       "    }\n",
       "</style>\n",
       "<table border=\"1\" class=\"dataframe\">\n",
       "  <thead>\n",
       "    <tr style=\"text-align: right;\">\n",
       "      <th></th>\n",
       "      <th>GSM</th>\n",
       "      <th>Condition</th>\n",
       "      <th>tissue</th>\n",
       "      <th>cell_type</th>\n",
       "      <th>age</th>\n",
       "      <th>genotype</th>\n",
       "    </tr>\n",
       "  </thead>\n",
       "  <tbody>\n",
       "    <tr>\n",
       "      <th>SLX-13212.N701_N502</th>\n",
       "      <td>GSM2587704</td>\n",
       "      <td>12 Months HSC JAK2 HOM</td>\n",
       "      <td>tissue: whole bone marrow</td>\n",
       "      <td>cell type: Hematopoietic Stem Cell</td>\n",
       "      <td>age: 12 Months</td>\n",
       "      <td>genotype: JAK2 V617F Homozygous</td>\n",
       "    </tr>\n",
       "    <tr>\n",
       "      <th>SLX-13212.N701_N503</th>\n",
       "      <td>GSM2587705</td>\n",
       "      <td>12 Months HSC JAK2 HOM</td>\n",
       "      <td>tissue: whole bone marrow</td>\n",
       "      <td>cell type: Hematopoietic Stem Cell</td>\n",
       "      <td>age: 12 Months</td>\n",
       "      <td>genotype: JAK2 V617F Homozygous</td>\n",
       "    </tr>\n",
       "    <tr>\n",
       "      <th>SLX-13212.N701_N504</th>\n",
       "      <td>GSM2587706</td>\n",
       "      <td>12 Months HSC JAK2 HOM</td>\n",
       "      <td>tissue: whole bone marrow</td>\n",
       "      <td>cell type: Hematopoietic Stem Cell</td>\n",
       "      <td>age: 12 Months</td>\n",
       "      <td>genotype: JAK2 V617F Homozygous</td>\n",
       "    </tr>\n",
       "    <tr>\n",
       "      <th>SLX-13212.N701_N505</th>\n",
       "      <td>GSM2587707</td>\n",
       "      <td>12 Months HSC JAK2 HOM</td>\n",
       "      <td>tissue: whole bone marrow</td>\n",
       "      <td>cell type: Hematopoietic Stem Cell</td>\n",
       "      <td>age: 12 Months</td>\n",
       "      <td>genotype: JAK2 V617F Homozygous</td>\n",
       "    </tr>\n",
       "    <tr>\n",
       "      <th>SLX-13212.N701_N506</th>\n",
       "      <td>GSM2587708</td>\n",
       "      <td>12 Months HSC JAK2 HOM</td>\n",
       "      <td>tissue: whole bone marrow</td>\n",
       "      <td>cell type: Hematopoietic Stem Cell</td>\n",
       "      <td>age: 12 Months</td>\n",
       "      <td>genotype: JAK2 V617F Homozygous</td>\n",
       "    </tr>\n",
       "  </tbody>\n",
       "</table>\n",
       "</div>"
      ],
      "text/plain": [
       "                            GSM               Condition  \\\n",
       "SLX-13212.N701_N502  GSM2587704  12 Months HSC JAK2 HOM   \n",
       "SLX-13212.N701_N503  GSM2587705  12 Months HSC JAK2 HOM   \n",
       "SLX-13212.N701_N504  GSM2587706  12 Months HSC JAK2 HOM   \n",
       "SLX-13212.N701_N505  GSM2587707  12 Months HSC JAK2 HOM   \n",
       "SLX-13212.N701_N506  GSM2587708  12 Months HSC JAK2 HOM   \n",
       "\n",
       "                                        tissue  \\\n",
       "SLX-13212.N701_N502  tissue: whole bone marrow   \n",
       "SLX-13212.N701_N503  tissue: whole bone marrow   \n",
       "SLX-13212.N701_N504  tissue: whole bone marrow   \n",
       "SLX-13212.N701_N505  tissue: whole bone marrow   \n",
       "SLX-13212.N701_N506  tissue: whole bone marrow   \n",
       "\n",
       "                                              cell_type             age  \\\n",
       "SLX-13212.N701_N502  cell type: Hematopoietic Stem Cell  age: 12 Months   \n",
       "SLX-13212.N701_N503  cell type: Hematopoietic Stem Cell  age: 12 Months   \n",
       "SLX-13212.N701_N504  cell type: Hematopoietic Stem Cell  age: 12 Months   \n",
       "SLX-13212.N701_N505  cell type: Hematopoietic Stem Cell  age: 12 Months   \n",
       "SLX-13212.N701_N506  cell type: Hematopoietic Stem Cell  age: 12 Months   \n",
       "\n",
       "                                            genotype  \n",
       "SLX-13212.N701_N502  genotype: JAK2 V617F Homozygous  \n",
       "SLX-13212.N701_N503  genotype: JAK2 V617F Homozygous  \n",
       "SLX-13212.N701_N504  genotype: JAK2 V617F Homozygous  \n",
       "SLX-13212.N701_N505  genotype: JAK2 V617F Homozygous  \n",
       "SLX-13212.N701_N506  genotype: JAK2 V617F Homozygous  "
      ]
     },
     "execution_count": 14,
     "metadata": {},
     "output_type": "execute_result"
    }
   ],
   "source": [
    "GSE87631.obs.head()"
   ]
  },
  {
   "cell_type": "code",
   "execution_count": 15,
   "id": "350c4e18",
   "metadata": {},
   "outputs": [
    {
     "data": {
      "text/plain": [
       "age: 12 Months           384\n",
       "age: 18 Months (Old)     384\n",
       "age: 4 Months (young)    384\n",
       "Name: age, dtype: int64"
      ]
     },
     "execution_count": 15,
     "metadata": {},
     "output_type": "execute_result"
    }
   ],
   "source": [
    "GSE87631.obs['age'].value_counts()"
   ]
  },
  {
   "cell_type": "code",
   "execution_count": 17,
   "id": "6dae3611",
   "metadata": {},
   "outputs": [],
   "source": [
    "geneInfo = pd.read_csv('./Data/GSE87631_gene_anno.txt', sep=\"\\t\", header=None, index_col=0)"
   ]
  },
  {
   "cell_type": "code",
   "execution_count": 18,
   "id": "717b89e2",
   "metadata": {},
   "outputs": [
    {
     "data": {
      "text/plain": [
       "(41388, 1)"
      ]
     },
     "execution_count": 18,
     "metadata": {},
     "output_type": "execute_result"
    }
   ],
   "source": [
    "geneInfo.shape"
   ]
  },
  {
   "cell_type": "code",
   "execution_count": 19,
   "id": "af68c1c6",
   "metadata": {},
   "outputs": [],
   "source": [
    "idx = [True if ('__' in str(x)) or ('ERCC' in str(x)) else False for x in GSE87631.var_names]"
   ]
  },
  {
   "cell_type": "code",
   "execution_count": 20,
   "id": "2b58b6c5",
   "metadata": {},
   "outputs": [],
   "source": [
    "GSE87631 = GSE87631[:,~np.array(idx)].copy()"
   ]
  },
  {
   "cell_type": "code",
   "execution_count": 21,
   "id": "9806f7f8",
   "metadata": {},
   "outputs": [
    {
     "data": {
      "text/plain": [
       "(1152, 41388)"
      ]
     },
     "execution_count": 21,
     "metadata": {},
     "output_type": "execute_result"
    }
   ],
   "source": [
    "GSE87631.shape"
   ]
  },
  {
   "cell_type": "code",
   "execution_count": 22,
   "id": "bc88b4ad",
   "metadata": {},
   "outputs": [],
   "source": [
    "geneInfo.index = [str(x) for x in geneInfo.index]"
   ]
  },
  {
   "cell_type": "code",
   "execution_count": 23,
   "id": "2a437963",
   "metadata": {},
   "outputs": [
    {
     "data": {
      "text/html": [
       "<div>\n",
       "<style scoped>\n",
       "    .dataframe tbody tr th:only-of-type {\n",
       "        vertical-align: middle;\n",
       "    }\n",
       "\n",
       "    .dataframe tbody tr th {\n",
       "        vertical-align: top;\n",
       "    }\n",
       "\n",
       "    .dataframe thead th {\n",
       "        text-align: right;\n",
       "    }\n",
       "</style>\n",
       "<table border=\"1\" class=\"dataframe\">\n",
       "  <thead>\n",
       "    <tr style=\"text-align: right;\">\n",
       "      <th></th>\n",
       "      <th>1</th>\n",
       "    </tr>\n",
       "  </thead>\n",
       "  <tbody>\n",
       "    <tr>\n",
       "      <th>ENSMUSG00000090025</th>\n",
       "      <td>Gm16088</td>\n",
       "    </tr>\n",
       "    <tr>\n",
       "      <th>ENSMUSG00000064842</th>\n",
       "      <td>Gm26206</td>\n",
       "    </tr>\n",
       "    <tr>\n",
       "      <th>ENSMUSG00000051951</th>\n",
       "      <td>Xkr4</td>\n",
       "    </tr>\n",
       "    <tr>\n",
       "      <th>ENSMUSG00000089699</th>\n",
       "      <td>Gm1992</td>\n",
       "    </tr>\n",
       "    <tr>\n",
       "      <th>ENSMUSG00000088333</th>\n",
       "      <td>Gm27396</td>\n",
       "    </tr>\n",
       "  </tbody>\n",
       "</table>\n",
       "</div>"
      ],
      "text/plain": [
       "                          1\n",
       "ENSMUSG00000090025  Gm16088\n",
       "ENSMUSG00000064842  Gm26206\n",
       "ENSMUSG00000051951     Xkr4\n",
       "ENSMUSG00000089699   Gm1992\n",
       "ENSMUSG00000088333  Gm27396"
      ]
     },
     "execution_count": 23,
     "metadata": {},
     "output_type": "execute_result"
    }
   ],
   "source": [
    "geneInfo.head()"
   ]
  },
  {
   "cell_type": "code",
   "execution_count": 24,
   "id": "72d6d36b",
   "metadata": {},
   "outputs": [],
   "source": [
    "GNOL = np.intersect1d(GSE87631.var_names, geneInfo.index)"
   ]
  },
  {
   "cell_type": "code",
   "execution_count": 25,
   "id": "bc83e497",
   "metadata": {},
   "outputs": [
    {
     "data": {
      "text/plain": [
       "41382"
      ]
     },
     "execution_count": 25,
     "metadata": {},
     "output_type": "execute_result"
    }
   ],
   "source": [
    "len(GNOL)"
   ]
  },
  {
   "cell_type": "code",
   "execution_count": 26,
   "id": "415aad9f",
   "metadata": {},
   "outputs": [],
   "source": [
    "GSE87631 = GSE87631[:, GNOL].copy()"
   ]
  },
  {
   "cell_type": "code",
   "execution_count": 27,
   "id": "129f4d1d",
   "metadata": {},
   "outputs": [],
   "source": [
    "geneInfo = geneInfo.loc[GNOL,:].copy()"
   ]
  },
  {
   "cell_type": "code",
   "execution_count": 28,
   "id": "8e9ba25d",
   "metadata": {},
   "outputs": [],
   "source": [
    "GSE87631.var['En'] = GSE87631.var_names"
   ]
  },
  {
   "cell_type": "code",
   "execution_count": 29,
   "id": "57625650",
   "metadata": {},
   "outputs": [],
   "source": [
    "GSE87631.var_names = geneInfo[1]"
   ]
  },
  {
   "cell_type": "code",
   "execution_count": 30,
   "id": "84c30e6b",
   "metadata": {},
   "outputs": [
    {
     "data": {
      "text/html": [
       "<div>\n",
       "<style scoped>\n",
       "    .dataframe tbody tr th:only-of-type {\n",
       "        vertical-align: middle;\n",
       "    }\n",
       "\n",
       "    .dataframe tbody tr th {\n",
       "        vertical-align: top;\n",
       "    }\n",
       "\n",
       "    .dataframe thead th {\n",
       "        text-align: right;\n",
       "    }\n",
       "</style>\n",
       "<table border=\"1\" class=\"dataframe\">\n",
       "  <thead>\n",
       "    <tr style=\"text-align: right;\">\n",
       "      <th></th>\n",
       "      <th>En</th>\n",
       "    </tr>\n",
       "  </thead>\n",
       "  <tbody>\n",
       "    <tr>\n",
       "      <th>Gnai3</th>\n",
       "      <td>ENSMUSG00000000001</td>\n",
       "    </tr>\n",
       "    <tr>\n",
       "      <th>Pbsn</th>\n",
       "      <td>ENSMUSG00000000003</td>\n",
       "    </tr>\n",
       "    <tr>\n",
       "      <th>Cdc45</th>\n",
       "      <td>ENSMUSG00000000028</td>\n",
       "    </tr>\n",
       "    <tr>\n",
       "      <th>H19</th>\n",
       "      <td>ENSMUSG00000000031</td>\n",
       "    </tr>\n",
       "    <tr>\n",
       "      <th>Scml2</th>\n",
       "      <td>ENSMUSG00000000037</td>\n",
       "    </tr>\n",
       "  </tbody>\n",
       "</table>\n",
       "</div>"
      ],
      "text/plain": [
       "                       En\n",
       "Gnai3  ENSMUSG00000000001\n",
       "Pbsn   ENSMUSG00000000003\n",
       "Cdc45  ENSMUSG00000000028\n",
       "H19    ENSMUSG00000000031\n",
       "Scml2  ENSMUSG00000000037"
      ]
     },
     "execution_count": 30,
     "metadata": {},
     "output_type": "execute_result"
    }
   ],
   "source": [
    "GSE87631.var.head()"
   ]
  },
  {
   "cell_type": "markdown",
   "id": "fad179d4",
   "metadata": {},
   "source": [
    "# QC"
   ]
  },
  {
   "cell_type": "code",
   "execution_count": 31,
   "id": "c6e4fc45",
   "metadata": {},
   "outputs": [],
   "source": [
    "GSE87631.var['mt'] = GSE87631.var_names.str.startswith('mt-') "
   ]
  },
  {
   "cell_type": "code",
   "execution_count": 32,
   "id": "1a38e7d6",
   "metadata": {},
   "outputs": [],
   "source": [
    "sc.pp.calculate_qc_metrics(GSE87631, qc_vars=['mt'], inplace=True)"
   ]
  },
  {
   "cell_type": "code",
   "execution_count": 33,
   "id": "f2154d2b",
   "metadata": {},
   "outputs": [],
   "source": [
    "import seaborn as sns"
   ]
  },
  {
   "cell_type": "code",
   "execution_count": 34,
   "id": "7a20f087",
   "metadata": {},
   "outputs": [
    {
     "data": {
      "image/png": "[encoded data removed]",
      "text/plain": [
       "<Figure size 720x240 with 3 Axes>"
      ]
     },
     "metadata": {
      "image/png": {
       "height": 220,
       "width": 692
      },
      "needs_background": "light"
     },
     "output_type": "display_data"
    }
   ],
   "source": [
    "obs_terms = ['log1p_n_genes_by_counts', 'log1p_total_counts', 'pct_counts_mt']\n",
    "cutoffs = [800,3000000, np.exp(10)]\n",
    "fig,ax = plt.subplots(1,3, figsize=(9,3))\n",
    "for i in range(len(obs_terms)):\n",
    "    sns.kdeplot(GSE87631.obs[obs_terms[i]], ax=ax[i])\n",
    "    ax[i].grid(False)\n",
    "    ax[i].set_title(obs_terms[i])\n",
    "    ax[i].axvline(np.log1p(cutoffs[i]), c='orange', linestyle='--')\n",
    "plt.tight_layout()"
   ]
  },
  {
   "cell_type": "code",
   "execution_count": 35,
   "id": "648d0161",
   "metadata": {},
   "outputs": [],
   "source": [
    "GSE87631.var_names_make_unique()"
   ]
  },
  {
   "cell_type": "code",
   "execution_count": 36,
   "id": "86eb6b4e",
   "metadata": {},
   "outputs": [
    {
     "name": "stdout",
     "output_type": "stream",
     "text": [
      "filtered out 25 cells that have less than 800 genes expressed\n",
      "filtered out 17794 genes that are detected in less than 1 cells\n"
     ]
    }
   ],
   "source": [
    "sc.pp.filter_cells(GSE87631, min_genes=800)\n",
    "sc.pp.filter_genes(GSE87631, min_cells=1)"
   ]
  },
  {
   "cell_type": "code",
   "execution_count": 37,
   "id": "7daf582b",
   "metadata": {},
   "outputs": [],
   "source": [
    "GSE87631 = GSE87631[(GSE87631.obs['total_counts'] <= 3000000) & (GSE87631.obs['pct_counts_mt'] <= 10), :].copy()"
   ]
  },
  {
   "cell_type": "code",
   "execution_count": 39,
   "id": "3aad49ff",
   "metadata": {},
   "outputs": [],
   "source": [
    "GSE87631.write('./write/raw_GSE87631.h5ad')"
   ]
  },
  {
   "cell_type": "markdown",
   "id": "8a31cbae",
   "metadata": {},
   "source": [
    "# Normalisation"
   ]
  },
  {
   "cell_type": "code",
   "execution_count": 40,
   "id": "8c67c6ff",
   "metadata": {},
   "outputs": [],
   "source": [
    "GSE87631 = sc.read('./write/raw_GSE87631.h5ad')"
   ]
  },
  {
   "cell_type": "code",
   "execution_count": 41,
   "id": "147f291e",
   "metadata": {},
   "outputs": [
    {
     "name": "stdout",
     "output_type": "stream",
     "text": [
      "normalizing by total count per cell\n",
      "    finished (0:00:00): normalized adata.X and added    'n_counts', counts per cell before normalization (adata.obs)\n"
     ]
    }
   ],
   "source": [
    "sc.pp.normalize_per_cell(GSE87631, counts_per_cell_after=1e4)"
   ]
  },
  {
   "cell_type": "code",
   "execution_count": 42,
   "id": "ed4b64f7",
   "metadata": {},
   "outputs": [],
   "source": [
    "sc.pp.log1p(GSE87631)"
   ]
  },
  {
   "cell_type": "code",
   "execution_count": 43,
   "id": "90b5cca1",
   "metadata": {},
   "outputs": [],
   "source": [
    "GSE87631.raw = GSE87631"
   ]
  },
  {
   "cell_type": "code",
   "execution_count": 44,
   "id": "fa5c39a0",
   "metadata": {},
   "outputs": [],
   "source": [
    "GSE87631.write('./write/norm_GSE87631.h5ad')"
   ]
  },
  {
   "cell_type": "markdown",
   "id": "f3e91e01",
   "metadata": {},
   "source": [
    "# Calculate p53 scores"
   ]
  },
  {
   "cell_type": "code",
   "execution_count": null,
   "id": "11d11f3c",
   "metadata": {},
   "outputs": [],
   "source": [
    "GSE87631 = sc.read('./write/norm_GSE87631.h5ad')"
   ]
  },
  {
   "cell_type": "code",
   "execution_count": 45,
   "id": "7ac6d71f",
   "metadata": {},
   "outputs": [],
   "source": [
    "GSE87631_norm = anndata.AnnData(X=GSE87631.raw.X, obs=GSE87631.obs, var=GSE87631.raw.var)"
   ]
  },
  {
   "cell_type": "code",
   "execution_count": 46,
   "id": "16af6258",
   "metadata": {},
   "outputs": [],
   "source": [
    "sc.pp.scale(GSE87631_norm)"
   ]
  },
  {
   "cell_type": "code",
   "execution_count": 48,
   "id": "963af66f",
   "metadata": {},
   "outputs": [],
   "source": [
    "p53GL = np.genfromtxt('/home/xw251/rds/rds-bg200-hphi-gottgens/users/xw251/Lab_Members/Niki/Patel_SMQ2/Analysis_17Feb2021/p53GL.txt', dtype='str')"
   ]
  },
  {
   "cell_type": "code",
   "execution_count": 49,
   "id": "47e4bfc7",
   "metadata": {},
   "outputs": [
    {
     "name": "stdout",
     "output_type": "stream",
     "text": [
      "computing score 'p53S'\n",
      "    finished: added\n",
      "    'p53S', score of gene set (adata.obs).\n",
      "    600 total control genes are used. (0:00:00)\n"
     ]
    }
   ],
   "source": [
    "sc.tl.score_genes(GSE87631_norm,np.array(p53GL), score_name = 'p53S', use_raw=False)"
   ]
  },
  {
   "cell_type": "code",
   "execution_count": 50,
   "id": "44c0f0d4",
   "metadata": {},
   "outputs": [],
   "source": [
    "GSE87631.obs['p53S'] = GSE87631_norm.obs['p53S']"
   ]
  },
  {
   "cell_type": "code",
   "execution_count": 51,
   "id": "fac5a98e",
   "metadata": {},
   "outputs": [],
   "source": [
    "GSE87631.write('./write/processed_GSE87631.h5ad')"
   ]
  },
  {
   "cell_type": "markdown",
   "id": "d15c7a3f",
   "metadata": {},
   "source": [
    "# Extract WT"
   ]
  },
  {
   "cell_type": "code",
   "execution_count": 61,
   "id": "d3355523",
   "metadata": {},
   "outputs": [],
   "source": [
    "GSE87631 = sc.read('./write/processed_GSE87631.h5ad')"
   ]
  },
  {
   "cell_type": "code",
   "execution_count": 62,
   "id": "902a07cd",
   "metadata": {
    "scrolled": true
   },
   "outputs": [
    {
     "data": {
      "text/plain": [
       "12 Months HSC JAK2 HOM    192\n",
       "12 Months HSC JAK2 WT     189\n",
       "Old HSC JAK2 HOM          188\n",
       "Old HSC WT                187\n",
       "Young HSC WT              182\n",
       "Young HSC JAK2 HOM        178\n",
       "Name: Condition, dtype: int64"
      ]
     },
     "execution_count": 62,
     "metadata": {},
     "output_type": "execute_result"
    }
   ],
   "source": [
    "GSE87631.obs['Condition'].value_counts()"
   ]
  },
  {
   "cell_type": "code",
   "execution_count": 63,
   "id": "4417c2ba",
   "metadata": {},
   "outputs": [],
   "source": [
    "# Extract WT only \n",
    "GSE87631 = GSE87631[(GSE87631.obs['Condition'] == 'Old HSC WT') | (GSE87631.obs['Condition'] == 'Young HSC WT')].copy()"
   ]
  },
  {
   "cell_type": "code",
   "execution_count": 64,
   "id": "be905f56",
   "metadata": {},
   "outputs": [
    {
     "data": {
      "text/plain": [
       "age: 18 Months (Old)     187\n",
       "age: 4 Months (young)    182\n",
       "Name: age, dtype: int64"
      ]
     },
     "execution_count": 64,
     "metadata": {},
     "output_type": "execute_result"
    }
   ],
   "source": [
    "GSE87631.obs['age'].value_counts()"
   ]
  },
  {
   "cell_type": "code",
   "execution_count": 65,
   "id": "38cfd784",
   "metadata": {},
   "outputs": [],
   "source": [
    "GSE87631.obs['age'] = GSE87631.obs['age'].astype('category')"
   ]
  },
  {
   "cell_type": "code",
   "execution_count": 66,
   "id": "494b9a5b",
   "metadata": {},
   "outputs": [
    {
     "data": {
      "text/plain": [
       "Index(['age: 4 Months (young)', 'age: 18 Months (Old)'], dtype='object')"
      ]
     },
     "execution_count": 66,
     "metadata": {},
     "output_type": "execute_result"
    }
   ],
   "source": [
    "GSE87631.obs['age'].cat.categories"
   ]
  },
  {
   "cell_type": "code",
   "execution_count": 67,
   "id": "242fa20e",
   "metadata": {},
   "outputs": [],
   "source": [
    "GSE87631.obs['age'] = GSE87631.obs['age'].cat.rename_categories(['young', 'old'])"
   ]
  },
  {
   "cell_type": "code",
   "execution_count": 68,
   "id": "59e40dde",
   "metadata": {},
   "outputs": [
    {
     "data": {
      "text/plain": [
       "Index(['young', 'old'], dtype='object')"
      ]
     },
     "execution_count": 68,
     "metadata": {},
     "output_type": "execute_result"
    }
   ],
   "source": [
    "GSE87631.obs['age'].cat.categories"
   ]
  },
  {
   "cell_type": "code",
   "execution_count": 70,
   "id": "1fe3edb4",
   "metadata": {},
   "outputs": [],
   "source": [
    "GSE87631.write('./write/WT_GSE87631.h5ad')"
   ]
  },
  {
   "cell_type": "code",
   "execution_count": 71,
   "id": "fdd78732",
   "metadata": {},
   "outputs": [
    {
     "name": "stdout",
     "output_type": "stream",
     "text": [
      "young v.s. old: Mann-Whitney-Wilcoxon test two-sided with Bonferroni correction, P_val=1.601e-02 U_stat=1.455e+04\n"
     ]
    },
    {
     "data": {
      "text/plain": [
       "(<AxesSubplot:ylabel='p53S'>,\n",
       " [<statannot.StatResult.StatResult at 0x2b017f374310>])"
      ]
     },
     "execution_count": 71,
     "metadata": {},
     "output_type": "execute_result"
    },
    {
     "data": {
      "image/png": "[encoded data removed]",
      "text/plain": [
       "<Figure size 480x320 with 1 Axes>"
      ]
     },
     "metadata": {
      "image/png": {
       "height": 315,
       "width": 455
      },
      "needs_background": "light"
     },
     "output_type": "display_data"
    }
   ],
   "source": [
    "# Figure6C\n",
    "from statannot import add_stat_annotation\n",
    "fig, ax = plt.subplots(figsize=(6,4))\n",
    "sns.violinplot(x='age', y='p53S', scale='width', data=GSE87631.obs, ax=ax)\n",
    "sns.stripplot(x=\"age\", y=\"p53S\", data=GSE87631.obs, jitter=True, zorder=1, color=\".3\")\n",
    "ax.set_xticklabels(labels=GSE87631.obs['age'].cat.categories,rotation=90)\n",
    "ax.grid(False)\n",
    "ax.set_xlabel('')\n",
    "add_stat_annotation(ax, data=GSE87631.obs, x='age', y='p53S',\n",
    "                        box_pairs=[('old', 'young')],\n",
    "                        test='Mann-Whitney', text_format='simple', loc='inside', verbose=2)"
   ]
  }
 ],
 "metadata": {
  "kernelspec": {
   "display_name": "Python 3 (ipykernel)",
   "language": "python",
   "name": "python3"
  },
  "language_info": {
   "codemirror_mode": {
    "name": "ipython",
    "version": 3
   },
   "file_extension": ".py",
   "mimetype": "text/x-python",
   "name": "python",
   "nbconvert_exporter": "python",
   "pygments_lexer": "ipython3",
   "version": "3.8.12"
  }
 },
 "nbformat": 4,
 "nbformat_minor": 5
}
