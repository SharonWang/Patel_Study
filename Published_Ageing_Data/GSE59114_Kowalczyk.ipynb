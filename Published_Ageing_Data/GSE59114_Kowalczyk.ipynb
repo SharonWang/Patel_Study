{
 "cells": [
  {
   "cell_type": "markdown",
   "id": "0ba5a1c5",
   "metadata": {},
   "source": [
    "# GSE59114 - Kowalczyk\n",
    "## Xiaonan Wang\n",
    "## 24May2023"
   ]
  },
  {
   "cell_type": "code",
   "execution_count": 1,
   "id": "15b40a48",
   "metadata": {},
   "outputs": [
    {
     "name": "stdout",
     "output_type": "stream",
     "text": [
      "scanpy==1.8.2 anndata==0.7.8 umap==0.5.2 numpy==1.20.3 scipy==1.7.3 pandas==1.3.5 scikit-learn==1.0.1 statsmodels==0.13.1 python-igraph==0.9.8 louvain==0.7.1 pynndescent==0.5.5\n",
      "0.1.2\n"
     ]
    }
   ],
   "source": [
    "#%matplotlib nbagg\n",
    "import numpy as np\n",
    "import matplotlib.pyplot as plt\n",
    "import scanpy as sc\n",
    "import pandas as pd\n",
    "from os import listdir\n",
    "from os.path import isfile, join\n",
    "import re\n",
    "import anndata\n",
    "import seaborn as sns\n",
    "import smqpp\n",
    "\n",
    "plt.rcParams['pdf.fonttype'] = 42\n",
    "plt.rcParams['ps.fonttype'] = 42\n",
    "\n",
    "sc.settings.verbosity = 3  # verbosity: errors (0), warnings (1), info (2), hints (3)\n",
    "sc.logging.print_header()\n",
    "print(smqpp.__version__)\n",
    "\n",
    "from matplotlib.colors import LinearSegmentedColormap\n",
    "cmap = LinearSegmentedColormap.from_list(name='gene_cmap', colors=['lightgrey', 'thistle', 'red', 'darkred']) \n",
    "\n",
    "sc.settings.set_figure_params(dpi=80, color_map='viridis', vector_friendly=False,  dpi_save=300)"
   ]
  },
  {
   "cell_type": "markdown",
   "id": "14fbfe46",
   "metadata": {},
   "source": [
    "# Read in and tidyup"
   ]
  },
  {
   "cell_type": "code",
   "execution_count": 2,
   "id": "8fdff792",
   "metadata": {},
   "outputs": [
    {
     "name": "stdout",
     "output_type": "stream",
     "text": [
      "--> This might be very slow. Consider passing `cache=True`, which enables much faster reading from a cache file.\n"
     ]
    }
   ],
   "source": [
    "GSE59114 = sc.read(\"./Data/GSE59114_m1.txt\").T"
   ]
  },
  {
   "cell_type": "code",
   "execution_count": 3,
   "id": "1a89cd73",
   "metadata": {},
   "outputs": [
    {
     "name": "stdout",
     "output_type": "stream",
     "text": [
      "(1428, 3)\n"
     ]
    }
   ],
   "source": [
    "meta = pd.read_csv(\"./Data/GSE59114_meta.txt\", sep='\\t')\n",
    "print(meta.shape)"
   ]
  },
  {
   "cell_type": "code",
   "execution_count": 4,
   "id": "201800d9",
   "metadata": {},
   "outputs": [],
   "source": [
    "GSE59114.obs = meta"
   ]
  },
  {
   "cell_type": "markdown",
   "id": "5e309242",
   "metadata": {},
   "source": [
    "# QC and normalisation"
   ]
  },
  {
   "cell_type": "code",
   "execution_count": 5,
   "id": "e5e42ebe",
   "metadata": {},
   "outputs": [],
   "source": [
    "sc.pp.filter_genes(GSE59114, min_cells=1)"
   ]
  },
  {
   "cell_type": "code",
   "execution_count": 6,
   "id": "91b09c2e",
   "metadata": {},
   "outputs": [
    {
     "data": {
      "text/plain": [
       "(1428, 8422)"
      ]
     },
     "execution_count": 6,
     "metadata": {},
     "output_type": "execute_result"
    }
   ],
   "source": [
    "GSE59114.shape"
   ]
  },
  {
   "cell_type": "code",
   "execution_count": 7,
   "id": "239504a8",
   "metadata": {},
   "outputs": [
    {
     "name": "stderr",
     "output_type": "stream",
     "text": [
      "/home/xw251/miniconda3/envs/scanpy182/lib/python3.8/site-packages/anndata/_core/anndata.py:1228: FutureWarning: The `inplace` parameter in pandas.Categorical.reorder_categories is deprecated and will be removed in a future version. Reordering categories will always return a new Categorical object.\n",
      "  c.reorder_categories(natsorted(c.categories), inplace=True)\n",
      "... storing 'age' as categorical\n",
      "/home/xw251/miniconda3/envs/scanpy182/lib/python3.8/site-packages/anndata/_core/anndata.py:1228: FutureWarning: The `inplace` parameter in pandas.Categorical.reorder_categories is deprecated and will be removed in a future version. Reordering categories will always return a new Categorical object.\n",
      "  c.reorder_categories(natsorted(c.categories), inplace=True)\n",
      "... storing 'ct' as categorical\n",
      "/home/xw251/miniconda3/envs/scanpy182/lib/python3.8/site-packages/anndata/_core/anndata.py:1228: FutureWarning: The `inplace` parameter in pandas.Categorical.reorder_categories is deprecated and will be removed in a future version. Reordering categories will always return a new Categorical object.\n",
      "  c.reorder_categories(natsorted(c.categories), inplace=True)\n",
      "... storing 'batch' as categorical\n"
     ]
    }
   ],
   "source": [
    "GSE59114.write('./write/raw_GSE59114.h5ad')"
   ]
  },
  {
   "cell_type": "code",
   "execution_count": 8,
   "id": "6b63be72",
   "metadata": {},
   "outputs": [],
   "source": [
    "GSE59114.X = 2**(GSE59114.X)-1"
   ]
  },
  {
   "cell_type": "code",
   "execution_count": 9,
   "id": "43badf53",
   "metadata": {},
   "outputs": [
    {
     "name": "stdout",
     "output_type": "stream",
     "text": [
      "normalizing by total count per cell\n",
      "    finished (0:00:00): normalized adata.X and added    'n_counts', counts per cell before normalization (adata.obs)\n"
     ]
    }
   ],
   "source": [
    "# normalisation\n",
    "sc.pp.normalize_per_cell(GSE59114, counts_per_cell_after=1e4)\n",
    "sc.pp.log1p(GSE59114)"
   ]
  },
  {
   "cell_type": "code",
   "execution_count": 10,
   "id": "5ebc17e8",
   "metadata": {},
   "outputs": [],
   "source": [
    "GSE59114.raw = GSE59114"
   ]
  },
  {
   "cell_type": "code",
   "execution_count": 11,
   "id": "5fe9ee8d",
   "metadata": {},
   "outputs": [
    {
     "data": {
      "text/html": [
       "<div>\n",
       "<style scoped>\n",
       "    .dataframe tbody tr th:only-of-type {\n",
       "        vertical-align: middle;\n",
       "    }\n",
       "\n",
       "    .dataframe tbody tr th {\n",
       "        vertical-align: top;\n",
       "    }\n",
       "\n",
       "    .dataframe thead th {\n",
       "        text-align: right;\n",
       "    }\n",
       "</style>\n",
       "<table border=\"1\" class=\"dataframe\">\n",
       "  <thead>\n",
       "    <tr style=\"text-align: right;\">\n",
       "      <th></th>\n",
       "      <th>age</th>\n",
       "      <th>ct</th>\n",
       "      <th>batch</th>\n",
       "      <th>n_counts</th>\n",
       "    </tr>\n",
       "  </thead>\n",
       "  <tbody>\n",
       "    <tr>\n",
       "      <th>young_LT_HSC_2</th>\n",
       "      <td>young</td>\n",
       "      <td>LTHSC</td>\n",
       "      <td>b1</td>\n",
       "      <td>971509.8125</td>\n",
       "    </tr>\n",
       "    <tr>\n",
       "      <th>young_LT_HSC_6</th>\n",
       "      <td>young</td>\n",
       "      <td>LTHSC</td>\n",
       "      <td>b1</td>\n",
       "      <td>972504.3750</td>\n",
       "    </tr>\n",
       "    <tr>\n",
       "      <th>young_LT_HSC_8</th>\n",
       "      <td>young</td>\n",
       "      <td>LTHSC</td>\n",
       "      <td>b1</td>\n",
       "      <td>967960.0625</td>\n",
       "    </tr>\n",
       "    <tr>\n",
       "      <th>young_LT_HSC_9</th>\n",
       "      <td>young</td>\n",
       "      <td>LTHSC</td>\n",
       "      <td>b1</td>\n",
       "      <td>975070.2500</td>\n",
       "    </tr>\n",
       "    <tr>\n",
       "      <th>young_LT_HSC_10</th>\n",
       "      <td>young</td>\n",
       "      <td>LTHSC</td>\n",
       "      <td>b1</td>\n",
       "      <td>980532.3750</td>\n",
       "    </tr>\n",
       "  </tbody>\n",
       "</table>\n",
       "</div>"
      ],
      "text/plain": [
       "                   age     ct batch     n_counts\n",
       "young_LT_HSC_2   young  LTHSC    b1  971509.8125\n",
       "young_LT_HSC_6   young  LTHSC    b1  972504.3750\n",
       "young_LT_HSC_8   young  LTHSC    b1  967960.0625\n",
       "young_LT_HSC_9   young  LTHSC    b1  975070.2500\n",
       "young_LT_HSC_10  young  LTHSC    b1  980532.3750"
      ]
     },
     "execution_count": 11,
     "metadata": {},
     "output_type": "execute_result"
    }
   ],
   "source": [
    "GSE59114.obs.head()"
   ]
  },
  {
   "cell_type": "code",
   "execution_count": 12,
   "id": "4e94b5de",
   "metadata": {},
   "outputs": [],
   "source": [
    "GSE59114.write('./write/norm_GSE59114.h5ad')"
   ]
  },
  {
   "cell_type": "markdown",
   "id": "8fc83fac",
   "metadata": {},
   "source": [
    "# p53 Score Calculation"
   ]
  },
  {
   "cell_type": "code",
   "execution_count": 13,
   "id": "7c038494",
   "metadata": {},
   "outputs": [],
   "source": [
    "GSE59114 = sc.read('./write/norm_GSE59114.h5ad')"
   ]
  },
  {
   "cell_type": "code",
   "execution_count": 14,
   "id": "eeca97de",
   "metadata": {},
   "outputs": [],
   "source": [
    "GSE59114_norm = anndata.AnnData(X=GSE59114.raw.X, obs=GSE59114.obs, var=GSE59114.raw.var)"
   ]
  },
  {
   "cell_type": "code",
   "execution_count": 15,
   "id": "c16ad09a",
   "metadata": {},
   "outputs": [],
   "source": [
    "sc.pp.scale(GSE59114_norm)"
   ]
  },
  {
   "cell_type": "code",
   "execution_count": 16,
   "id": "c7f2ea32",
   "metadata": {},
   "outputs": [],
   "source": [
    "p53GL = np.genfromtxt('/home/xw251/rds/rds-bg200-hphi-gottgens/users/xw251/Lab_Members/Niki/Patel_SMQ2/Analysis_17Feb2021/p53GL.txt', dtype='str')"
   ]
  },
  {
   "cell_type": "code",
   "execution_count": 17,
   "id": "faefb36c",
   "metadata": {},
   "outputs": [
    {
     "name": "stdout",
     "output_type": "stream",
     "text": [
      "['Aen' 'Bax' 'Bbc3' 'Casp1' 'Ccng1' 'Cdkn1a' 'Ctsd' 'Eda2r' 'Ier5' 'Perp'\n",
      " 'Phlda3' 'Pml' 'Pvt1' 'Sulf2' 'Tnfrsf10b' 'Zmat3']\n"
     ]
    }
   ],
   "source": [
    "print(p53GL)"
   ]
  },
  {
   "cell_type": "code",
   "execution_count": 18,
   "id": "887109e5",
   "metadata": {},
   "outputs": [
    {
     "name": "stdout",
     "output_type": "stream",
     "text": [
      "computing score 'p53S'\n",
      "WARNING: genes are not in var_names and ignored: ['Bbc3', 'Eda2r', 'Ier5', 'Perp', 'Phlda3', 'Pvt1', 'Sulf2', 'Zmat3']\n",
      "    finished: added\n",
      "    'p53S', score of gene set (adata.obs).\n",
      "    350 total control genes are used. (0:00:00)\n"
     ]
    }
   ],
   "source": [
    "sc.tl.score_genes(GSE59114_norm,np.array(p53GL), score_name = 'p53S', use_raw=False)"
   ]
  },
  {
   "cell_type": "code",
   "execution_count": 19,
   "id": "7bfe543a",
   "metadata": {},
   "outputs": [],
   "source": [
    "GSE59114.obs['p53S'] = GSE59114_norm.obs['p53S']"
   ]
  },
  {
   "cell_type": "code",
   "execution_count": 28,
   "id": "7a2907e2",
   "metadata": {},
   "outputs": [],
   "source": [
    "GSE59114.obs['age'] = GSE59114.obs['age'].astype('category')"
   ]
  },
  {
   "cell_type": "code",
   "execution_count": 29,
   "id": "3a7795ed",
   "metadata": {},
   "outputs": [
    {
     "data": {
      "text/plain": [
       "Index(['old', 'young'], dtype='object')"
      ]
     },
     "execution_count": 29,
     "metadata": {},
     "output_type": "execute_result"
    }
   ],
   "source": [
    "GSE59114.obs['age'].cat.categories"
   ]
  },
  {
   "cell_type": "code",
   "execution_count": 30,
   "id": "8001d301",
   "metadata": {},
   "outputs": [],
   "source": [
    "GSE59114.obs['age'] = GSE59114.obs['age'].cat.reorder_categories(['young', 'old'])"
   ]
  },
  {
   "cell_type": "code",
   "execution_count": 31,
   "id": "db4aa317",
   "metadata": {},
   "outputs": [],
   "source": [
    "GSE59114.write('./write/processed_GSE59114.h5ad')"
   ]
  },
  {
   "cell_type": "code",
   "execution_count": 26,
   "id": "fa2febe7",
   "metadata": {},
   "outputs": [],
   "source": [
    "GSE59114 = sc.read('./write/processed_GSE59114.h5ad')"
   ]
  },
  {
   "cell_type": "code",
   "execution_count": 32,
   "id": "145fec76",
   "metadata": {},
   "outputs": [],
   "source": [
    "# Extract HSCs only\n",
    "GSE59114 = GSE59114[GSE59114.obs['ct'] != 'MPP']"
   ]
  },
  {
   "cell_type": "code",
   "execution_count": 33,
   "id": "5bdf1cd1",
   "metadata": {},
   "outputs": [
    {
     "data": {
      "text/plain": [
       "LTHSC    539\n",
       "STHSC    533\n",
       "Name: ct, dtype: int64"
      ]
     },
     "execution_count": 33,
     "metadata": {},
     "output_type": "execute_result"
    }
   ],
   "source": [
    "GSE59114.obs['ct'].value_counts()"
   ]
  },
  {
   "cell_type": "code",
   "execution_count": 35,
   "id": "22cf7f2f",
   "metadata": {},
   "outputs": [
    {
     "name": "stdout",
     "output_type": "stream",
     "text": [
      "young v.s. old: Mann-Whitney-Wilcoxon test two-sided with Bonferroni correction, P_val=7.904e-03 U_stat=1.100e+05\n"
     ]
    },
    {
     "data": {
      "text/plain": [
       "(<AxesSubplot:title={'center':'HSC'}, ylabel='p53S'>,\n",
       " [<statannot.StatResult.StatResult at 0x2b691ff8d7c0>])"
      ]
     },
     "execution_count": 35,
     "metadata": {},
     "output_type": "execute_result"
    },
    {
     "data": {
      "image/png": "[encoded data removed]",
      "text/plain": [
       "<Figure size 480x320 with 1 Axes>"
      ]
     },
     "metadata": {
      "image/png": {
       "height": 333,
       "width": 455
      },
      "needs_background": "light"
     },
     "output_type": "display_data"
    }
   ],
   "source": [
    "# Figure6C\n",
    "from statannot import add_stat_annotation\n",
    "fig, ax = plt.subplots(figsize=(6,4))\n",
    "sns.violinplot(x='age', y='p53S', scale='width', data=GSE59114.obs, ax=ax)\n",
    "sns.stripplot(x=\"age\", y=\"p53S\", data=GSE59114.obs, jitter=True, zorder=1, color=\".3\")\n",
    "ax.set_xticklabels(labels=GSE59114.obs['age'].cat.categories,rotation=90)\n",
    "ax.grid(False)\n",
    "ax.set_xlabel('')\n",
    "ax.set_title('HSC')\n",
    "ax.axhline(y=0, linestyle=\"--\", c='grey')\n",
    "add_stat_annotation(ax, data=GSE59114.obs, x='age', y='p53S',\n",
    "                        box_pairs=[('old', 'young')],\n",
    "                        test='Mann-Whitney', text_format='simple', loc='inside', verbose=2)"
   ]
  }
 ],
 "metadata": {
  "kernelspec": {
   "display_name": "Python 3 (ipykernel)",
   "language": "python",
   "name": "python3"
  },
  "language_info": {
   "codemirror_mode": {
    "name": "ipython",
    "version": 3
   },
   "file_extension": ".py",
   "mimetype": "text/x-python",
   "name": "python",
   "nbconvert_exporter": "python",
   "pygments_lexer": "ipython3",
   "version": "3.8.12"
  }
 },
 "nbformat": 4,
 "nbformat_minor": 5
}
